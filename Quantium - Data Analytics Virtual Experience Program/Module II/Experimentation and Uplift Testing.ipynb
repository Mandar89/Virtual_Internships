{
 "cells": [
  {
   "cell_type": "code",
   "execution_count": 1,
   "metadata": {},
   "outputs": [],
   "source": [
    "# Importing the libraries\n",
    "import pandas as pd\n",
    "import numpy as np\n",
    "import matplotlib.pyplot as plt\n",
    "import seaborn as sns"
   ]
  },
  {
   "cell_type": "code",
   "execution_count": 2,
   "metadata": {},
   "outputs": [],
   "source": [
    "from datetime import datetime, timedelta\n",
    "import xlrd"
   ]
  },
  {
   "cell_type": "code",
   "execution_count": 3,
   "metadata": {},
   "outputs": [],
   "source": [
    "import warnings\n",
    "warnings.filterwarnings('ignore')"
   ]
  },
  {
   "cell_type": "code",
   "execution_count": 4,
   "metadata": {},
   "outputs": [],
   "source": [
    "dataset = pd.read_csv(\"C:/Users/mandar/Downloads/data.csv\")"
   ]
  },
  {
   "cell_type": "code",
   "execution_count": 5,
   "metadata": {},
   "outputs": [],
   "source": [
    "# Performance Metrics"
   ]
  },
  {
   "cell_type": "code",
   "execution_count": 6,
   "metadata": {},
   "outputs": [],
   "source": [
    "# We would like to determine the effectiveness of new trial layouts in trial stores 77, 86 and 88 for the trial period of February 2019 to April 2019. We would like to measure the performance of these stores on three metrics:Total sales revenue, Total number of customers, Average number of transactions per customer.\n",
    "# We will calculate these by month over the period of interest."
   ]
  },
  {
   "cell_type": "code",
   "execution_count": 7,
   "metadata": {},
   "outputs": [],
   "source": [
    "# Orderr by Date\n",
    "dataset = dataset.sort_values(by=['DATE'])"
   ]
  },
  {
   "cell_type": "code",
   "execution_count": 8,
   "metadata": {},
   "outputs": [],
   "source": [
    "# Convert Date Column to Datetime Type\n",
    "dataset['DATE'] = pd.to_datetime(dataset['DATE'])"
   ]
  },
  {
   "cell_type": "code",
   "execution_count": 9,
   "metadata": {},
   "outputs": [],
   "source": [
    "# Create Year-Month Column\n",
    "dataset['YEAR_MONTH'] = pd.to_datetime(dataset['DATE']).dt.to_period('M')"
   ]
  },
  {
   "cell_type": "code",
   "execution_count": 10,
   "metadata": {},
   "outputs": [
    {
     "data": {
      "text/html": [
       "<div>\n",
       "<style scoped>\n",
       "    .dataframe tbody tr th:only-of-type {\n",
       "        vertical-align: middle;\n",
       "    }\n",
       "\n",
       "    .dataframe tbody tr th {\n",
       "        vertical-align: top;\n",
       "    }\n",
       "\n",
       "    .dataframe thead th {\n",
       "        text-align: right;\n",
       "    }\n",
       "</style>\n",
       "<table border=\"1\" class=\"dataframe\">\n",
       "  <thead>\n",
       "    <tr style=\"text-align: right;\">\n",
       "      <th></th>\n",
       "      <th>DATE</th>\n",
       "      <th>STORE_NBR</th>\n",
       "      <th>LYLTY_CARD_NBR</th>\n",
       "      <th>TXN_ID</th>\n",
       "      <th>PROD_NBR</th>\n",
       "      <th>PROD_NAME</th>\n",
       "      <th>PROD_QTY</th>\n",
       "      <th>TOT_SALES</th>\n",
       "      <th>LIFESTAGE</th>\n",
       "      <th>PREMIUM_CUSTOMER</th>\n",
       "      <th>BRAND</th>\n",
       "      <th>PACK_SIZE</th>\n",
       "      <th>YEAR_MONTH</th>\n",
       "    </tr>\n",
       "  </thead>\n",
       "  <tbody>\n",
       "    <tr>\n",
       "      <th>200063</th>\n",
       "      <td>2018-07-01</td>\n",
       "      <td>152</td>\n",
       "      <td>152040</td>\n",
       "      <td>150459</td>\n",
       "      <td>25</td>\n",
       "      <td>Pringles SourCream  Onion 134g</td>\n",
       "      <td>2</td>\n",
       "      <td>7.4</td>\n",
       "      <td>YOUNG FAMILIES</td>\n",
       "      <td>Mainstream</td>\n",
       "      <td>Pringles</td>\n",
       "      <td>134</td>\n",
       "      <td>2018-07</td>\n",
       "    </tr>\n",
       "    <tr>\n",
       "      <th>60194</th>\n",
       "      <td>2018-07-01</td>\n",
       "      <td>128</td>\n",
       "      <td>128215</td>\n",
       "      <td>132006</td>\n",
       "      <td>29</td>\n",
       "      <td>French Fries Potato Chips 175g</td>\n",
       "      <td>2</td>\n",
       "      <td>6.0</td>\n",
       "      <td>OLDER FAMILIES</td>\n",
       "      <td>Mainstream</td>\n",
       "      <td>French Fries</td>\n",
       "      <td>175</td>\n",
       "      <td>2018-07</td>\n",
       "    </tr>\n",
       "    <tr>\n",
       "      <th>214319</th>\n",
       "      <td>2018-07-01</td>\n",
       "      <td>230</td>\n",
       "      <td>230210</td>\n",
       "      <td>233375</td>\n",
       "      <td>70</td>\n",
       "      <td>Tyrrells Crisps     Lightly Salted 165g</td>\n",
       "      <td>2</td>\n",
       "      <td>8.4</td>\n",
       "      <td>YOUNG FAMILIES</td>\n",
       "      <td>Premium</td>\n",
       "      <td>Tyrrells</td>\n",
       "      <td>165</td>\n",
       "      <td>2018-07</td>\n",
       "    </tr>\n",
       "    <tr>\n",
       "      <th>88949</th>\n",
       "      <td>2018-07-01</td>\n",
       "      <td>181</td>\n",
       "      <td>181080</td>\n",
       "      <td>182897</td>\n",
       "      <td>112</td>\n",
       "      <td>Tyrrells Crisps     Ched &amp; Chives 165g</td>\n",
       "      <td>2</td>\n",
       "      <td>8.4</td>\n",
       "      <td>OLDER SINGLES/COUPLES</td>\n",
       "      <td>Budget</td>\n",
       "      <td>Tyrrells</td>\n",
       "      <td>165</td>\n",
       "      <td>2018-07</td>\n",
       "    </tr>\n",
       "    <tr>\n",
       "      <th>39979</th>\n",
       "      <td>2018-07-01</td>\n",
       "      <td>83</td>\n",
       "      <td>83189</td>\n",
       "      <td>83183</td>\n",
       "      <td>2</td>\n",
       "      <td>Cobs Popd Sour Crm  &amp;Chives Chips 110g</td>\n",
       "      <td>2</td>\n",
       "      <td>7.6</td>\n",
       "      <td>OLDER FAMILIES</td>\n",
       "      <td>Budget</td>\n",
       "      <td>Cobs</td>\n",
       "      <td>110</td>\n",
       "      <td>2018-07</td>\n",
       "    </tr>\n",
       "  </tbody>\n",
       "</table>\n",
       "</div>"
      ],
      "text/plain": [
       "             DATE  STORE_NBR  LYLTY_CARD_NBR  TXN_ID  PROD_NBR  \\\n",
       "200063 2018-07-01        152          152040  150459        25   \n",
       "60194  2018-07-01        128          128215  132006        29   \n",
       "214319 2018-07-01        230          230210  233375        70   \n",
       "88949  2018-07-01        181          181080  182897       112   \n",
       "39979  2018-07-01         83           83189   83183         2   \n",
       "\n",
       "                                      PROD_NAME  PROD_QTY  TOT_SALES  \\\n",
       "200063           Pringles SourCream  Onion 134g         2        7.4   \n",
       "60194            French Fries Potato Chips 175g         2        6.0   \n",
       "214319  Tyrrells Crisps     Lightly Salted 165g         2        8.4   \n",
       "88949    Tyrrells Crisps     Ched & Chives 165g         2        8.4   \n",
       "39979    Cobs Popd Sour Crm  &Chives Chips 110g         2        7.6   \n",
       "\n",
       "                    LIFESTAGE PREMIUM_CUSTOMER         BRAND  PACK_SIZE  \\\n",
       "200063         YOUNG FAMILIES       Mainstream      Pringles        134   \n",
       "60194          OLDER FAMILIES       Mainstream  French Fries        175   \n",
       "214319         YOUNG FAMILIES          Premium      Tyrrells        165   \n",
       "88949   OLDER SINGLES/COUPLES           Budget      Tyrrells        165   \n",
       "39979          OLDER FAMILIES           Budget          Cobs        110   \n",
       "\n",
       "       YEAR_MONTH  \n",
       "200063    2018-07  \n",
       "60194     2018-07  \n",
       "214319    2018-07  \n",
       "88949     2018-07  \n",
       "39979     2018-07  "
      ]
     },
     "execution_count": 10,
     "metadata": {},
     "output_type": "execute_result"
    }
   ],
   "source": [
    "dataset.head()"
   ]
  },
  {
   "cell_type": "code",
   "execution_count": 11,
   "metadata": {},
   "outputs": [
    {
     "data": {
      "text/html": [
       "<div>\n",
       "<style scoped>\n",
       "    .dataframe tbody tr th:only-of-type {\n",
       "        vertical-align: middle;\n",
       "    }\n",
       "\n",
       "    .dataframe tbody tr th {\n",
       "        vertical-align: top;\n",
       "    }\n",
       "\n",
       "    .dataframe thead th {\n",
       "        text-align: right;\n",
       "    }\n",
       "</style>\n",
       "<table border=\"1\" class=\"dataframe\">\n",
       "  <thead>\n",
       "    <tr style=\"text-align: right;\">\n",
       "      <th></th>\n",
       "      <th>DATE</th>\n",
       "      <th>STORE_NBR</th>\n",
       "      <th>LYLTY_CARD_NBR</th>\n",
       "      <th>TXN_ID</th>\n",
       "      <th>PROD_NBR</th>\n",
       "      <th>PROD_NAME</th>\n",
       "      <th>PROD_QTY</th>\n",
       "      <th>TOT_SALES</th>\n",
       "      <th>LIFESTAGE</th>\n",
       "      <th>PREMIUM_CUSTOMER</th>\n",
       "      <th>BRAND</th>\n",
       "      <th>PACK_SIZE</th>\n",
       "      <th>YEAR_MONTH</th>\n",
       "    </tr>\n",
       "  </thead>\n",
       "  <tbody>\n",
       "    <tr>\n",
       "      <th>37616</th>\n",
       "      <td>2019-06-30</td>\n",
       "      <td>48</td>\n",
       "      <td>48046</td>\n",
       "      <td>43327</td>\n",
       "      <td>61</td>\n",
       "      <td>Smiths Crinkle Cut  Chips Chicken 170g</td>\n",
       "      <td>2</td>\n",
       "      <td>5.8</td>\n",
       "      <td>OLDER FAMILIES</td>\n",
       "      <td>Budget</td>\n",
       "      <td>Smiths</td>\n",
       "      <td>170</td>\n",
       "      <td>2019-06</td>\n",
       "    </tr>\n",
       "    <tr>\n",
       "      <th>225061</th>\n",
       "      <td>2019-06-30</td>\n",
       "      <td>95</td>\n",
       "      <td>95300</td>\n",
       "      <td>95463</td>\n",
       "      <td>23</td>\n",
       "      <td>Cheezels Cheese 330g</td>\n",
       "      <td>2</td>\n",
       "      <td>11.4</td>\n",
       "      <td>YOUNG SINGLES/COUPLES</td>\n",
       "      <td>Mainstream</td>\n",
       "      <td>Cheezels</td>\n",
       "      <td>330</td>\n",
       "      <td>2019-06</td>\n",
       "    </tr>\n",
       "    <tr>\n",
       "      <th>148988</th>\n",
       "      <td>2019-06-30</td>\n",
       "      <td>62</td>\n",
       "      <td>62042</td>\n",
       "      <td>58031</td>\n",
       "      <td>98</td>\n",
       "      <td>NCC Sour Cream &amp;    Garden Chives 175g</td>\n",
       "      <td>2</td>\n",
       "      <td>6.0</td>\n",
       "      <td>RETIREES</td>\n",
       "      <td>Mainstream</td>\n",
       "      <td>Natural Chip Co</td>\n",
       "      <td>175</td>\n",
       "      <td>2019-06</td>\n",
       "    </tr>\n",
       "    <tr>\n",
       "      <th>246480</th>\n",
       "      <td>2019-06-30</td>\n",
       "      <td>100</td>\n",
       "      <td>100178</td>\n",
       "      <td>99578</td>\n",
       "      <td>2</td>\n",
       "      <td>Cobs Popd Sour Crm  &amp;Chives Chips 110g</td>\n",
       "      <td>2</td>\n",
       "      <td>7.6</td>\n",
       "      <td>YOUNG SINGLES/COUPLES</td>\n",
       "      <td>Premium</td>\n",
       "      <td>Cobs</td>\n",
       "      <td>110</td>\n",
       "      <td>2019-06</td>\n",
       "    </tr>\n",
       "    <tr>\n",
       "      <th>66677</th>\n",
       "      <td>2019-06-30</td>\n",
       "      <td>144</td>\n",
       "      <td>144002</td>\n",
       "      <td>143909</td>\n",
       "      <td>37</td>\n",
       "      <td>Smiths Thinly       Swt Chli&amp;S/Cream175G</td>\n",
       "      <td>2</td>\n",
       "      <td>6.0</td>\n",
       "      <td>OLDER FAMILIES</td>\n",
       "      <td>Premium</td>\n",
       "      <td>Smiths</td>\n",
       "      <td>175</td>\n",
       "      <td>2019-06</td>\n",
       "    </tr>\n",
       "  </tbody>\n",
       "</table>\n",
       "</div>"
      ],
      "text/plain": [
       "             DATE  STORE_NBR  LYLTY_CARD_NBR  TXN_ID  PROD_NBR  \\\n",
       "37616  2019-06-30         48           48046   43327        61   \n",
       "225061 2019-06-30         95           95300   95463        23   \n",
       "148988 2019-06-30         62           62042   58031        98   \n",
       "246480 2019-06-30        100          100178   99578         2   \n",
       "66677  2019-06-30        144          144002  143909        37   \n",
       "\n",
       "                                       PROD_NAME  PROD_QTY  TOT_SALES  \\\n",
       "37616     Smiths Crinkle Cut  Chips Chicken 170g         2        5.8   \n",
       "225061                      Cheezels Cheese 330g         2       11.4   \n",
       "148988    NCC Sour Cream &    Garden Chives 175g         2        6.0   \n",
       "246480    Cobs Popd Sour Crm  &Chives Chips 110g         2        7.6   \n",
       "66677   Smiths Thinly       Swt Chli&S/Cream175G         2        6.0   \n",
       "\n",
       "                    LIFESTAGE PREMIUM_CUSTOMER            BRAND  PACK_SIZE  \\\n",
       "37616          OLDER FAMILIES           Budget           Smiths        170   \n",
       "225061  YOUNG SINGLES/COUPLES       Mainstream         Cheezels        330   \n",
       "148988               RETIREES       Mainstream  Natural Chip Co        175   \n",
       "246480  YOUNG SINGLES/COUPLES          Premium             Cobs        110   \n",
       "66677          OLDER FAMILIES          Premium           Smiths        175   \n",
       "\n",
       "       YEAR_MONTH  \n",
       "37616     2019-06  \n",
       "225061    2019-06  \n",
       "148988    2019-06  \n",
       "246480    2019-06  \n",
       "66677     2019-06  "
      ]
     },
     "execution_count": 11,
     "metadata": {},
     "output_type": "execute_result"
    }
   ],
   "source": [
    "dataset.tail()"
   ]
  },
  {
   "cell_type": "code",
   "execution_count": 12,
   "metadata": {},
   "outputs": [],
   "source": [
    "def total_sales(store_data):\n",
    "    '''\n",
    "    Input: Takes a dataframe store_data which is filtered on a particular store number\n",
    "    Returns: A vector containing the total sales by month for that store\n",
    "    '''\n",
    "    sales = [] \n",
    "    months = store_data.YEAR_MONTH.unique()\n",
    "    for month in months:\n",
    "        month_data = store_data[store_data.YEAR_MONTH == month]\n",
    "        revenue = round(month_data.TOT_SALES.sum(), 2)\n",
    "        sales.append(revenue)\n",
    "    return pd.Series(sales)\n",
    "\n",
    "def total_customers(store_data):\n",
    "    '''\n",
    "    Input: Takes a dataframe store_data which is filtered on a particular store number\n",
    "    Returns: A vector containing the number of unique customers by month for that store\n",
    "    '''\n",
    "    customers = [] \n",
    "    months = store_data.YEAR_MONTH.unique()\n",
    "    for month in months:\n",
    "        month_data = store_data[store_data.YEAR_MONTH == month]\n",
    "        num_cust = len(month_data.LYLTY_CARD_NBR.unique())\n",
    "        customers.append(num_cust)\n",
    "    return pd.Series(customers)\n",
    "\n",
    "def avg_transactions(store_data):\n",
    "    '''\n",
    "    Input: Takes a dataframe store_data which is filtered on a particular store number\n",
    "    Returns: A vector containing the average number of transactions per customer by month\n",
    "             for that store calculated by (number of transactions / number of unique customers)\n",
    "    '''\n",
    "    transactions = [] \n",
    "    months = store_data.YEAR_MONTH.unique()\n",
    "    for month in months:\n",
    "        month_data = store_data[store_data.YEAR_MONTH == month]\n",
    "        avg_trans = len(month_data) / len(month_data.LYLTY_CARD_NBR.unique())\n",
    "        transactions.append(round(avg_trans, 2))\n",
    "    return pd.Series(transactions)"
   ]
  },
  {
   "cell_type": "code",
   "execution_count": 13,
   "metadata": {},
   "outputs": [],
   "source": [
    "# Choosing Control Stores\n",
    "\n",
    "#In order to determine if the trial stores perform better on the metrics we have defined, we will assign a control store (in which there is no new layout) to each trial store to make the comparison.\n",
    "#When choosing a corresponding control store for each trial store we want to choose a control store that is similar to the trial store in terms of performance in the pre-trial period of July 2018 to January 2019. Then, we can compare if and how performance diverges during the trial period. Since our dataset is sampled from the period July 2018 to June 2019, this should not be a problem."
   ]
  },
  {
   "cell_type": "code",
   "execution_count": 14,
   "metadata": {},
   "outputs": [],
   "source": [
    "# We split the data into the pre-trial period (July 2018 to January 2019) and trial period (February 2019 to April 2019). Then for each period we separate out the three trial stores from the potential controls.\n",
    "# In order to form optimal trial-control pairings for each trial store, we make pairwise comparisons between each trial store and each potential control store to determine similarity using the monthly metric functions defined above. Over the pre-trial period we will determine the correlation between pairs of stores on the metrics: Total sales revenue, Total number of customers"
   ]
  },
  {
   "cell_type": "code",
   "execution_count": 15,
   "metadata": {},
   "outputs": [],
   "source": [
    "#We calculate both these metrics by month for each (potential control, trial) pair.\n",
    "#Then for each trial store, we will select the control store that has the highest correlation, averaged over the 2 correlation coefficients calculated, giving us 3 optimal trial-control pairs."
   ]
  },
  {
   "cell_type": "code",
   "execution_count": 16,
   "metadata": {},
   "outputs": [],
   "source": [
    "# Set Date Column as Index\n",
    "dataset = dataset.set_index(['DATE'])"
   ]
  },
  {
   "cell_type": "code",
   "execution_count": 17,
   "metadata": {},
   "outputs": [],
   "source": [
    "# Splitting the dataset into pre-trial and trial periods\n",
    "pre_trial = dataset.loc['2018-07-01' : '2019-01-31']\n",
    "trial = dataset.loc['2019-02-01' : '2019-04-30']"
   ]
  },
  {
   "cell_type": "code",
   "execution_count": 18,
   "metadata": {},
   "outputs": [
    {
     "name": "stdout",
     "output_type": "stream",
     "text": [
      "305\n",
      "845\n",
      "1028\n"
     ]
    }
   ],
   "source": [
    "# Separate Control Candidates from Trial Stores\n",
    "pretrial_candidates = pre_trial.loc[(pre_trial['STORE_NBR'] != 77) & (pre_trial['STORE_NBR'] != 86) & (pre_trial['STORE_NBR'] != 88)]\n",
    "\n",
    "pre_store_nums = np.sort(pretrial_candidates.STORE_NBR.unique())\n",
    "\n",
    "pretrial_77 = pre_trial.loc[pre_trial['STORE_NBR'] == 77]\n",
    "pretrial_86 = pre_trial.loc[pre_trial['STORE_NBR'] == 86]\n",
    "pretrial_88 = pre_trial.loc[pre_trial['STORE_NBR'] == 88]\n",
    "\n",
    "print(len(pretrial_77))\n",
    "print(len(pretrial_86))\n",
    "print(len(pretrial_88))"
   ]
  },
  {
   "cell_type": "code",
   "execution_count": 19,
   "metadata": {},
   "outputs": [
    {
     "name": "stdout",
     "output_type": "stream",
     "text": [
      "142\n",
      "387\n",
      "470\n"
     ]
    }
   ],
   "source": [
    "trial_candidates = trial.loc[(trial['STORE_NBR'] != 77) & (trial['STORE_NBR'] != 86) & (trial['STORE_NBR'] != 88)]\n",
    "\n",
    "trial_store_nums = np.sort(trial_candidates.STORE_NBR.unique())\n",
    "\n",
    "trial_77 = trial.loc[trial['STORE_NBR'] == 77]\n",
    "trial_86 = trial.loc[trial['STORE_NBR'] == 86]\n",
    "trial_88 = trial.loc[trial['STORE_NBR'] == 88]\n",
    "\n",
    "print(len(trial_77))\n",
    "print(len(trial_86))\n",
    "print(len(trial_88))"
   ]
  },
  {
   "cell_type": "code",
   "execution_count": 20,
   "metadata": {},
   "outputs": [],
   "source": [
    "# We check to make sure that we have the same set of stores in the pretrial and trial periods and find that in the pretrial period stores 11, 31, 76 and 85 appear but in the trial period they don't. \n",
    "# We can filter these out as candidates as we need stores for which we have data across both periods."
   ]
  },
  {
   "cell_type": "code",
   "execution_count": 21,
   "metadata": {},
   "outputs": [
    {
     "data": {
      "text/plain": [
       "{11, 31, 76, 85}"
      ]
     },
     "execution_count": 21,
     "metadata": {},
     "output_type": "execute_result"
    }
   ],
   "source": [
    "set(pre_store_nums) - set(trial_store_nums)"
   ]
  },
  {
   "cell_type": "code",
   "execution_count": 22,
   "metadata": {},
   "outputs": [
    {
     "name": "stdout",
     "output_type": "stream",
     "text": [
      "[  1   2   3   4   5   6   7   8   9  10  12  13  14  15  16  17  18  19\n",
      "  20  21  22  23  24  25  26  27  28  29  30  32  33  34  35  36  37  38\n",
      "  39  40  41  42  43  44  45  46  47  48  49  50  51  52  53  54  55  56\n",
      "  57  58  59  60  61  62  63  64  65  66  67  68  69  70  71  72  73  74\n",
      "  75  78  79  80  81  82  83  84  87  89  90  91  93  94  95  96  97  98\n",
      "  99 100 101 102 103 104 105 106 107 108 109 110 111 112 113 114 115 116\n",
      " 117 118 119 120 121 122 123 124 125 126 127 128 129 130 131 132 133 134\n",
      " 135 136 137 138 139 140 141 142 143 144 145 146 147 148 149 150 151 152\n",
      " 153 154 155 156 157 158 159 160 161 162 163 164 165 166 167 168 169 170\n",
      " 171 172 173 174 175 176 177 178 179 180 181 182 183 184 185 186 187 188\n",
      " 189 190 191 192 193 194 195 196 197 198 199 200 201 202 203 204 205 206\n",
      " 207 208 209 210 212 213 214 215 216 217 218 219 220 221 222 223 224 225\n",
      " 226 227 228 229 230 231 232 233 234 235 236 237 238 239 240 241 242 243\n",
      " 244 245 246 247 248 249 250 251 252 253 254 255 256 257 258 259 260 261\n",
      " 262 263 264 265 266 267 268 269 270 271 272]\n"
     ]
    }
   ],
   "source": [
    "pretrial_candidates = pretrial_candidates.loc[(pretrial_candidates['STORE_NBR'] != 11) & (pretrial_candidates['STORE_NBR'] != 31) & (pretrial_candidates['STORE_NBR'] != 76) & (pretrial_candidates['STORE_NBR'] != 85)]\n",
    "pre_store_nums = np.sort(pretrial_candidates.STORE_NBR.unique())\n",
    "print(pre_store_nums)"
   ]
  },
  {
   "cell_type": "code",
   "execution_count": 23,
   "metadata": {},
   "outputs": [],
   "source": [
    "# Make pairwise comparisons between Control Candidates and Trial Stores"
   ]
  },
  {
   "cell_type": "code",
   "execution_count": 32,
   "metadata": {},
   "outputs": [],
   "source": [
    "def max_correlation(trial_data, store_nums):\n",
    "    \n",
    "    '''\n",
    "    Input: A dataframe trial_data which contains rows filtered on a particular trial store.\n",
    "           A list of store numbers store_nums for comparison with the trial store\n",
    "    \n",
    "    Output: A tuple of the form:\n",
    "            \n",
    "            (store number, sales correlation, customer correlateion, avg correlation)\n",
    "            \n",
    "            The tuple returned has the largest average correlation (last element)\n",
    "            out of all the pairwise comparisons made.\n",
    "            \n",
    "            The average correlation is taken over the 2 correlation coefficients calculated,\n",
    "            one for total sales and the other for total customers.\n",
    "\n",
    "    '''\n",
    "    \n",
    "    avg_corrs = []\n",
    "    \n",
    "    trial_sales = total_sales(trial_data)\n",
    "    trial_customers = total_customers(trial_data)\n",
    "    \n",
    "    for num in store_nums:\n",
    "        candidate_data = dataset.loc[dataset['STORE_NBR'] == num]\n",
    "        \n",
    "        candidate_sales = total_sales(candidate_data)\n",
    "        candidate_customers = total_customers(candidate_data)\n",
    "        \n",
    "        sales_corr = round(trial_sales.corr(candidate_sales), 2)\n",
    "        customers_corr = round(trial_customers.corr(candidate_customers), 2)\n",
    "        \n",
    "        avg_corrs.append( (num, sales_corr, customers_corr, round((sales_corr + customers_corr)/2, 2)) )\n",
    "        \n",
    "    return max(avg_corrs,key=lambda item:item[3])"
   ]
  },
  {
   "cell_type": "code",
   "execution_count": 25,
   "metadata": {},
   "outputs": [],
   "source": [
    "# Finding the Optimal Control Store for each Trial Store"
   ]
  },
  {
   "cell_type": "code",
   "execution_count": 26,
   "metadata": {},
   "outputs": [],
   "source": [
    "# Using the max correlation function, we see that the highest average correlations across the total sales and total customer metrics are:\n",
    "\n",
    "#Store 77 with Store 233\n",
    "#Store 86 with Store 114\n",
    "#Store 88 with store 14\n",
    "\n",
    "#So these are the trial store, control store pairings we will examine using data from the trial period."
   ]
  },
  {
   "cell_type": "code",
   "execution_count": 33,
   "metadata": {},
   "outputs": [
    {
     "data": {
      "text/plain": [
       "(233, 0.98, 0.96, 0.97)"
      ]
     },
     "execution_count": 33,
     "metadata": {},
     "output_type": "execute_result"
    }
   ],
   "source": [
    "max_correlation(pretrial_77, pre_store_nums)"
   ]
  },
  {
   "cell_type": "code",
   "execution_count": 34,
   "metadata": {},
   "outputs": [
    {
     "data": {
      "text/plain": [
       "(114, 0.8, 0.88, 0.84)"
      ]
     },
     "execution_count": 34,
     "metadata": {},
     "output_type": "execute_result"
    }
   ],
   "source": [
    "max_correlation(pretrial_86, pre_store_nums)"
   ]
  },
  {
   "cell_type": "code",
   "execution_count": 35,
   "metadata": {},
   "outputs": [
    {
     "data": {
      "text/plain": [
       "(14, 0.6, 0.98, 0.79)"
      ]
     },
     "execution_count": 35,
     "metadata": {},
     "output_type": "execute_result"
    }
   ],
   "source": [
    "max_correlation(pretrial_88, pre_store_nums)"
   ]
  },
  {
   "cell_type": "code",
   "execution_count": 36,
   "metadata": {},
   "outputs": [],
   "source": [
    "# Line Plots Verifying Correlation"
   ]
  },
  {
   "cell_type": "code",
   "execution_count": 37,
   "metadata": {},
   "outputs": [],
   "source": [
    "pretrial_233 = pre_trial.loc[pre_trial['STORE_NBR'] == 233]\n",
    "\n",
    "pretrial77_sales = total_sales(pretrial_77)\n",
    "pretrial233_sales = total_sales(pretrial_233)\n",
    "\n",
    "pretrial77_customers = total_customers(pretrial_77)\n",
    "pretrial233_customers = total_customers(pretrial_233)"
   ]
  },
  {
   "cell_type": "code",
   "execution_count": 39,
   "metadata": {},
   "outputs": [],
   "source": [
    "pretrial_114 = pre_trial.loc[pre_trial['STORE_NBR'] == 114]\n",
    "\n",
    "pretrial86_sales = total_sales(pretrial_86)\n",
    "pretrial114_sales = total_sales(pretrial_114)\n",
    "\n",
    "pretrial86_customers = total_customers(pretrial_86)\n",
    "pretrial114_customers = total_customers(pretrial_114)"
   ]
  },
  {
   "cell_type": "code",
   "execution_count": 41,
   "metadata": {},
   "outputs": [],
   "source": [
    "pretrial_14 = pre_trial.loc[pre_trial['STORE_NBR'] == 14]\n",
    "\n",
    "pretrial88_sales = total_sales(pretrial_88)\n",
    "pretrial14_sales = total_sales(pretrial_14)\n",
    "\n",
    "pretrial88_customers = total_customers(pretrial_88)\n",
    "pretrial14_customers = total_customers(pretrial_14)"
   ]
  },
  {
   "cell_type": "code",
   "execution_count": 42,
   "metadata": {},
   "outputs": [
    {
     "data": {
      "text/plain": [
       "Text(0.5, 1.0, 'Total Sales in Pretrial Period')"
      ]
     },
     "execution_count": 42,
     "metadata": {},
     "output_type": "execute_result"
    },
    {
     "data": {
      "image/png": "[encoded data removed]",
      "text/plain": [
       "<Figure size 432x288 with 1 Axes>"
      ]
     },
     "metadata": {
      "needs_background": "light"
     },
     "output_type": "display_data"
    }
   ],
   "source": [
    "#  Trial Stores (o) and Control Stores (x)\n",
    "months = ['07-2018', '08-2018', '09-2018', '10-2018', '11-2018', '12-2019', '01-2019']\n",
    "plt.plot(months, pretrial77_sales, marker='o', markerfacecolor='purple', markersize=12, color='violet', linewidth=4)\n",
    "plt.plot(months, pretrial233_sales, marker='s', markerfacecolor='purple', markersize=12, color='violet', linewidth=4)\n",
    "plt.plot(months, pretrial86_sales, marker='o', markerfacecolor='orange', markersize=12, color='yellow', linewidth=4)\n",
    "plt.plot(months, pretrial114_sales, marker='s', markerfacecolor='orange', markersize=12, color='yellow', linewidth=4)\n",
    "plt.plot(months, pretrial88_sales, marker='o', markerfacecolor='blue', markersize=12, color='lightblue', linewidth=4)\n",
    "plt.plot(months, pretrial14_sales, marker='s', markerfacecolor='blue', markersize=12, color='lightblue', linewidth=4)\n",
    "plt.xticks(rotation=90)\n",
    "plt.title('Total Sales in Pretrial Period')"
   ]
  },
  {
   "cell_type": "code",
   "execution_count": 43,
   "metadata": {},
   "outputs": [
    {
     "data": {
      "text/plain": [
       "Text(0.5, 1.0, 'Total Customers in Pretrial Period')"
      ]
     },
     "execution_count": 43,
     "metadata": {},
     "output_type": "execute_result"
    },
    {
     "data": {
      "image/png": "[encoded data removed]",
      "text/plain": [
       "<Figure size 432x288 with 1 Axes>"
      ]
     },
     "metadata": {
      "needs_background": "light"
     },
     "output_type": "display_data"
    }
   ],
   "source": [
    "months = ['07-2018', '08-2018', '09-2018', '10-2018', '11-2018', '12-2019', '01-2019']\n",
    "plt.plot(months, pretrial77_customers, marker='o', markerfacecolor='purple', markersize=12, color='violet', linewidth=4)\n",
    "plt.plot(months, pretrial233_customers, marker='s', markerfacecolor='purple', markersize=12, color='violet', linewidth=4)\n",
    "plt.plot(months, pretrial86_customers, marker='o', markerfacecolor='orange', markersize=12, color='yellow', linewidth=4)\n",
    "plt.plot(months, pretrial114_customers, marker='s', markerfacecolor='orange', markersize=12, color='yellow', linewidth=4)\n",
    "plt.plot(months, pretrial88_customers, marker='o', markerfacecolor='blue', markersize=12, color='lightblue', linewidth=4)\n",
    "plt.plot(months, pretrial14_customers, marker='s', markerfacecolor='blue', markersize=12, color='lightblue', linewidth=4)\n",
    "plt.xticks(rotation=90)\n",
    "plt.title('Total Customers in Pretrial Period')"
   ]
  },
  {
   "cell_type": "code",
   "execution_count": 44,
   "metadata": {},
   "outputs": [],
   "source": [
    "# Uplift Analysis"
   ]
  },
  {
   "cell_type": "code",
   "execution_count": 45,
   "metadata": {},
   "outputs": [],
   "source": [
    "trial_233 = trial.loc[trial['STORE_NBR'] == 233]\n",
    "\n",
    "trial77_sales = total_sales(trial_77)\n",
    "trial233_sales = total_sales(trial_233)\n",
    "\n",
    "trial77_customers = total_customers(trial_77)\n",
    "trial233_customers = total_customers(trial_233)\n",
    "\n",
    "trial77_transactions = avg_transactions(trial_77)\n",
    "trial233_transactions = avg_transactions(trial_233)\n",
    "\n",
    "trial_114 = trial.loc[trial['STORE_NBR'] == 114]\n",
    "\n",
    "trial86_sales = total_sales(trial_86)\n",
    "trial114_sales = total_sales(trial_114)\n",
    "\n",
    "trial86_customers = total_customers(trial_86)\n",
    "trial114_customers = total_customers(trial_114)\n",
    "\n",
    "trial86_transactions = avg_transactions(trial_86)\n",
    "trial114_transactions = avg_transactions(trial_114)\n",
    "\n",
    "trial_14 = trial.loc[trial['STORE_NBR'] == 14]\n",
    "\n",
    "trial88_sales = total_sales(trial_88)\n",
    "trial14_sales = total_sales(trial_14)\n",
    "\n",
    "trial88_customers = total_customers(trial_88)\n",
    "trial14_customers = total_customers(trial_14)\n",
    "\n",
    "trial88_transactions = avg_transactions(trial_88)\n",
    "trial14_transactions = avg_transactions(trial_14)\n",
    "\n",
    "pretrial77_transactions = avg_transactions(pretrial_77)\n",
    "pretrial86_transactions = avg_transactions(pretrial_86)\n",
    "pretrial88_transactions = avg_transactions(pretrial_88)\n",
    "\n",
    "pretrial233_transactions = avg_transactions(pretrial_233)\n",
    "pretrial114_transactions = avg_transactions(pretrial_114)\n",
    "pretrial14_transactions = avg_transactions(pretrial_14)"
   ]
  },
  {
   "cell_type": "code",
   "execution_count": 46,
   "metadata": {},
   "outputs": [],
   "source": [
    "diff_sales_77 = trial77_sales.mean() - pretrial77_sales.mean()\n",
    "diff_sales_86 = trial86_sales.mean() - pretrial86_sales.mean()\n",
    "diff_sales_88 = trial88_sales.mean() - pretrial88_sales.mean()\n",
    "\n",
    "diff_sales_233 = trial233_sales.mean() - pretrial233_sales.mean()\n",
    "diff_sales_114 = trial114_sales.mean() - pretrial114_sales.mean()\n",
    "diff_sales_14 = trial14_sales.mean() - pretrial14_sales.mean()\n",
    "\n",
    "diff_customers_77 = trial77_customers.mean() - pretrial77_customers.mean()\n",
    "diff_customers_86 = trial86_customers.mean() - pretrial86_customers.mean()\n",
    "diff_customers_88 = trial88_customers.mean() - pretrial88_customers.mean()\n",
    "\n",
    "diff_customers_233 = trial233_customers.mean() - pretrial233_customers.mean()\n",
    "diff_customers_114 = trial114_customers.mean() - pretrial114_customers.mean()\n",
    "diff_customers_14 = trial14_customers.mean() - pretrial14_customers.mean()\n",
    "\n",
    "diff_transactions_77 = trial77_transactions.mean() - pretrial77_transactions.mean()\n",
    "diff_transactions_86 = trial86_transactions.mean() - pretrial86_transactions.mean()\n",
    "diff_transactions_88 = trial88_transactions.mean() - pretrial88_transactions.mean()\n",
    "\n",
    "diff_transactions_233 = trial233_transactions.mean() - pretrial233_transactions.mean()\n",
    "diff_transactions_114 = trial114_transactions.mean() - pretrial114_transactions.mean()\n",
    "diff_transactions_14 = trial14_transactions.mean() - pretrial14_transactions.mean()\n",
    "\n",
    "\n",
    "diff_sales_trial = [diff_sales_77, diff_sales_86, diff_sales_88]\n",
    "diff_sales_control = [diff_sales_233, diff_sales_114, diff_sales_14]\n",
    "diff_customers_trial = [diff_customers_77, diff_customers_86, diff_customers_88]\n",
    "diff_customers_control = [diff_customers_233, diff_customers_114, diff_customers_14]\n",
    "diff_transactions_trial = [diff_transactions_77, diff_transactions_86, diff_transactions_88]\n",
    "diff_transactions_control = [diff_transactions_233, diff_transactions_114, diff_transactions_14]"
   ]
  },
  {
   "cell_type": "code",
   "execution_count": 48,
   "metadata": {},
   "outputs": [
    {
     "data": {
      "text/plain": [
       "Text(0.5, 1.0, 'Total Sales in Trial Period')"
      ]
     },
     "execution_count": 48,
     "metadata": {},
     "output_type": "execute_result"
    },
    {
     "data": {
      "image/png": "[encoded data removed]",
      "text/plain": [
       "<Figure size 432x288 with 1 Axes>"
      ]
     },
     "metadata": {
      "needs_background": "light"
     },
     "output_type": "display_data"
    }
   ],
   "source": [
    "# Line Plots Demonstrating Divergence over Trial Period\n",
    "months = ['02-2019', '03-2019', '04-2019']\n",
    "plt.plot(months, trial77_sales, marker='o', markerfacecolor='purple', markersize=12, color='violet', linewidth=4)\n",
    "plt.plot(months, trial233_sales, marker='s', markerfacecolor='purple', markersize=12, color='violet', linewidth=4)\n",
    "plt.plot(months, trial86_sales, marker='o', markerfacecolor='orange', markersize=12, color='yellow', linewidth=4)\n",
    "plt.plot(months, trial114_sales, marker='s', markerfacecolor='orange', markersize=12, color='yellow', linewidth=4)\n",
    "plt.plot(months, trial88_sales, marker='o', markerfacecolor='blue', markersize=12, color='lightblue', linewidth=4)\n",
    "plt.plot(months, trial14_sales, marker='s', markerfacecolor='blue', markersize=12, color='lightblue', linewidth=4)\n",
    "plt.xticks(rotation=90)\n",
    "plt.title('Total Sales in Trial Period')"
   ]
  },
  {
   "cell_type": "code",
   "execution_count": 49,
   "metadata": {},
   "outputs": [
    {
     "data": {
      "text/plain": [
       "Text(0.5, 1.0, 'Total Customers in Trial Period')"
      ]
     },
     "execution_count": 49,
     "metadata": {},
     "output_type": "execute_result"
    },
    {
     "data": {
      "image/png": "[encoded data removed]",
      "text/plain": [
       "<Figure size 432x288 with 1 Axes>"
      ]
     },
     "metadata": {
      "needs_background": "light"
     },
     "output_type": "display_data"
    }
   ],
   "source": [
    "months = ['02-2019', '03-2019', '04-2019']\n",
    "plt.plot(months, trial77_customers, marker='o', markerfacecolor='purple', markersize=12, color='violet', linewidth=4)\n",
    "plt.plot(months, trial233_customers, marker='s', markerfacecolor='purple', markersize=12, color='violet', linewidth=4)\n",
    "plt.plot(months, trial86_customers, marker='o', markerfacecolor='orange', markersize=12, color='yellow', linewidth=4)\n",
    "plt.plot(months, trial114_customers, marker='s', markerfacecolor='orange', markersize=12, color='yellow', linewidth=4)\n",
    "plt.plot(months, trial88_customers, marker='o', markerfacecolor='blue', markersize=12, color='lightblue', linewidth=4)\n",
    "plt.plot(months, trial14_customers, marker='s', markerfacecolor='blue', markersize=12, color='lightblue', linewidth=4)\n",
    "plt.xticks(rotation=90)\n",
    "plt.title('Total Customers in Trial Period')"
   ]
  },
  {
   "cell_type": "code",
   "execution_count": 51,
   "metadata": {},
   "outputs": [],
   "source": [
    "# One Tailed Independent Two Sample t-tests\n",
    "from scipy import stats"
   ]
  },
  {
   "cell_type": "code",
   "execution_count": 52,
   "metadata": {},
   "outputs": [
    {
     "name": "stdout",
     "output_type": "stream",
     "text": [
      "Total Sales Metric p-value:  0.036\n",
      "Total Sales Metric observed test statistic:  3.031\n",
      "\n",
      "Total Customers Metric p-value:  0.013\n",
      "Total Customers Metric observed test statistic:  4.686\n",
      "\n",
      "Average Transactions Per Customer Metric p-value:  0.361\n",
      "Average Transactions Per Customer Metric observed test statistic:  -0.405\n"
     ]
    }
   ],
   "source": [
    "sales_t = stats.ttest_ind(diff_sales_trial, diff_sales_control, equal_var=False)\n",
    "customers_t = stats.ttest_ind(diff_customers_trial, diff_customers_control, equal_var=False)\n",
    "transactions_t = stats.ttest_ind(diff_transactions_trial, diff_transactions_control, equal_var=False)\n",
    "\n",
    "print('Total Sales Metric p-value: ', round(sales_t.pvalue/2, 3))\n",
    "print('Total Sales Metric observed test statistic: ',  round(sales_t.statistic, 3))\n",
    "print()\n",
    "print('Total Customers Metric p-value: ', round(customers_t.pvalue/2, 3))\n",
    "print('Total Customers Metric observed test statistic: ', round(customers_t.statistic, 3))\n",
    "print()\n",
    "print('Average Transactions Per Customer Metric p-value: ', round(transactions_t.pvalue/2, 3))\n",
    "print('Average Transactions Per Customer Metric observed test statistic: ', round(transactions_t.statistic, 3))"
   ]
  },
  {
   "cell_type": "code",
   "execution_count": 53,
   "metadata": {},
   "outputs": [],
   "source": [
    "# Plotting Distribution of Differences in Metrics over Trial and Control Stores"
   ]
  },
  {
   "cell_type": "code",
   "execution_count": 54,
   "metadata": {},
   "outputs": [
    {
     "data": {
      "text/plain": [
       "Text(0.5, 1.0, 'Total Sales')"
      ]
     },
     "execution_count": 54,
     "metadata": {},
     "output_type": "execute_result"
    },
    {
     "data": {
      "image/png": "[encoded data removed]",
      "text/plain": [
       "<Figure size 432x288 with 1 Axes>"
      ]
     },
     "metadata": {
      "needs_background": "light"
     },
     "output_type": "display_data"
    }
   ],
   "source": [
    "sales_diffs = {'Differences': [diff_sales_77, diff_sales_86, diff_sales_88, diff_sales_233, diff_sales_114, diff_sales_14], 'Store Type': ['Trial', 'Trial', 'Trial', 'Control', 'Control', 'Control']}\n",
    "sales_diffs_df = pd.DataFrame(data=sales_diffs)\n",
    "sns.boxplot(x='Store Type', y='Differences', data=sales_diffs_df)\n",
    "plt.title('Total Sales')"
   ]
  },
  {
   "cell_type": "code",
   "execution_count": 55,
   "metadata": {},
   "outputs": [
    {
     "data": {
      "text/plain": [
       "Text(0.5, 1.0, 'Total Customers')"
      ]
     },
     "execution_count": 55,
     "metadata": {},
     "output_type": "execute_result"
    },
    {
     "data": {
      "image/png": "[encoded data removed]",
      "text/plain": [
       "<Figure size 432x288 with 1 Axes>"
      ]
     },
     "metadata": {
      "needs_background": "light"
     },
     "output_type": "display_data"
    }
   ],
   "source": [
    "customers_diffs = {'Differences': [diff_customers_77, diff_customers_86, diff_customers_88, diff_customers_233, diff_customers_114, diff_customers_14], 'Store Type': ['Trial', 'Trial', 'Trial', 'Control', 'Control', 'Control']}\n",
    "customers_diffs_df = pd.DataFrame(data=customers_diffs)\n",
    "sns.boxplot(x='Store Type', y='Differences', data=customers_diffs_df)\n",
    "plt.title('Total Customers')"
   ]
  },
  {
   "cell_type": "code",
   "execution_count": 56,
   "metadata": {},
   "outputs": [
    {
     "data": {
      "text/plain": [
       "Text(0.5, 1.0, 'Average Transactions Per Customer')"
      ]
     },
     "execution_count": 56,
     "metadata": {},
     "output_type": "execute_result"
    },
    {
     "data": {
      "image/png": "[encoded data removed]",
      "text/plain": [
       "<Figure size 432x288 with 1 Axes>"
      ]
     },
     "metadata": {
      "needs_background": "light"
     },
     "output_type": "display_data"
    }
   ],
   "source": [
    "transactions_diffs = {'Differences': [diff_transactions_77, diff_transactions_86, diff_transactions_88, diff_transactions_233, diff_transactions_114, diff_transactions_14], 'Store Type': ['Trial', 'Trial', 'Trial', 'Control', 'Control', 'Control']}\n",
    "transactions_diffs_df = pd.DataFrame(data=transactions_diffs)\n",
    "sns.boxplot(x='Store Type', y='Differences', data=transactions_diffs_df)\n",
    "plt.title('Average Transactions Per Customer')"
   ]
  }
 ],
 "metadata": {
  "kernelspec": {
   "display_name": "Python 3",
   "language": "python",
   "name": "python3"
  },
  "language_info": {
   "codemirror_mode": {
    "name": "ipython",
    "version": 3
   },
   "file_extension": ".py",
   "mimetype": "text/x-python",
   "name": "python",
   "nbconvert_exporter": "python",
   "pygments_lexer": "ipython3",
   "version": "3.7.7"
  }
 },
 "nbformat": 4,
 "nbformat_minor": 4
}
